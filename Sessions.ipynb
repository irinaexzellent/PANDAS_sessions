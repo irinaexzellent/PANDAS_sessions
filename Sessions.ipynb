{
 "cells": [
  {
   "cell_type": "code",
   "execution_count": 1,
   "id": "1f47328a",
   "metadata": {},
   "outputs": [],
   "source": [
    "import pandas as pd"
   ]
  },
  {
   "cell_type": "code",
   "execution_count": 2,
   "id": "80ad0fd9",
   "metadata": {},
   "outputs": [],
   "source": [
    "df = pd.read_csv('file1.csv')"
   ]
  },
  {
   "cell_type": "code",
   "execution_count": 3,
   "id": "bf9c54bf",
   "metadata": {},
   "outputs": [],
   "source": [
    "df = df.sort_values('customer_id')"
   ]
  },
  {
   "cell_type": "code",
   "execution_count": 4,
   "id": "974bbd64",
   "metadata": {},
   "outputs": [],
   "source": [
    "df['id'] = df['id'].astype(int)"
   ]
  },
  {
   "cell_type": "code",
   "execution_count": 5,
   "id": "79d0c0d6",
   "metadata": {},
   "outputs": [],
   "source": [
    "df['timestamp'] = pd.to_datetime(df['timestamp'], format='%m/%d/%y %H:%M')"
   ]
  },
  {
   "cell_type": "code",
   "execution_count": 6,
   "id": "dada24ee",
   "metadata": {},
   "outputs": [],
   "source": [
    "df['diff'] = df.groupby('customer_id')['timestamp'].diff(1)"
   ]
  },
  {
   "cell_type": "code",
   "execution_count": 7,
   "id": "d6bd389d",
   "metadata": {},
   "outputs": [],
   "source": [
    "sessions_start_df = df[(df['diff'].isnull()) | (df['diff'] > '180 seconds')]"
   ]
  },
  {
   "cell_type": "code",
   "execution_count": 8,
   "id": "3bc33f0d",
   "metadata": {},
   "outputs": [
    {
     "name": "stderr",
     "output_type": "stream",
     "text": [
      "c:\\dev\\pandas_sessions\\venv\\lib\\site-packages\\ipykernel_launcher.py:1: SettingWithCopyWarning: \n",
      "A value is trying to be set on a copy of a slice from a DataFrame.\n",
      "Try using .loc[row_indexer,col_indexer] = value instead\n",
      "\n",
      "See the caveats in the documentation: https://pandas.pydata.org/pandas-docs/stable/user_guide/indexing.html#returning-a-view-versus-a-copy\n",
      "  \"\"\"Entry point for launching an IPython kernel.\n"
     ]
    }
   ],
   "source": [
    "sessions_start_df['session_id'] = sessions_start_df['id']"
   ]
  },
  {
   "cell_type": "code",
   "execution_count": 9,
   "id": "8335ac51",
   "metadata": {},
   "outputs": [],
   "source": [
    "sessions_start_df = sessions_start_df[sessions_start_df['session_id'].notna()]"
   ]
  },
  {
   "cell_type": "code",
   "execution_count": 10,
   "id": "014abfcd",
   "metadata": {},
   "outputs": [],
   "source": [
    "sessions_start_df.loc['id'] = sessions_start_df['id'].astype(int)"
   ]
  },
  {
   "cell_type": "code",
   "execution_count": 11,
   "id": "a53e1e02",
   "metadata": {},
   "outputs": [],
   "source": [
    "sessions_start_df['session_id'] = sessions_start_df['id']"
   ]
  },
  {
   "cell_type": "code",
   "execution_count": 12,
   "id": "d4a4e373",
   "metadata": {},
   "outputs": [],
   "source": [
    "sessions_start_df = sessions_start_df[sessions_start_df['session_id'].notna()]"
   ]
  },
  {
   "cell_type": "code",
   "execution_count": 13,
   "id": "ae0091b9",
   "metadata": {},
   "outputs": [],
   "source": [
    "sessions_start_df['id'] = sessions_start_df['id'].astype(int)"
   ]
  },
  {
   "cell_type": "code",
   "execution_count": 14,
   "id": "30f87dc0",
   "metadata": {},
   "outputs": [],
   "source": [
    "sessions_start_df['session_id'] = sessions_start_df['session_id'].astype(int)"
   ]
  },
  {
   "cell_type": "code",
   "execution_count": 15,
   "id": "61e822ee",
   "metadata": {},
   "outputs": [],
   "source": [
    "df = df.sort_values('id')"
   ]
  },
  {
   "cell_type": "code",
   "execution_count": 16,
   "id": "022d23db",
   "metadata": {},
   "outputs": [],
   "source": [
    "sessions_start_df = sessions_start_df.sort_values('id')"
   ]
  },
  {
   "cell_type": "code",
   "execution_count": 17,
   "id": "957eb204",
   "metadata": {},
   "outputs": [],
   "source": [
    "df = pd.merge_asof(df,sessions_start_df[['id','customer_id','session_id']],on='id',by='customer_id')"
   ]
  },
  {
   "cell_type": "code",
   "execution_count": 18,
   "id": "8f56c086",
   "metadata": {},
   "outputs": [],
   "source": [
    "df = df[df['session_id'].notna()]"
   ]
  },
  {
   "cell_type": "code",
   "execution_count": 19,
   "id": "60cde6e0",
   "metadata": {},
   "outputs": [],
   "source": [
    "df1 = df[['customer_id', 'product_id', 'timestamp', 'session_id']]"
   ]
  },
  {
   "cell_type": "code",
   "execution_count": 20,
   "id": "05a8ecc0",
   "metadata": {},
   "outputs": [
    {
     "name": "stderr",
     "output_type": "stream",
     "text": [
      "c:\\dev\\pandas_sessions\\venv\\lib\\site-packages\\ipykernel_launcher.py:1: SettingWithCopyWarning: \n",
      "A value is trying to be set on a copy of a slice from a DataFrame.\n",
      "Try using .loc[row_indexer,col_indexer] = value instead\n",
      "\n",
      "See the caveats in the documentation: https://pandas.pydata.org/pandas-docs/stable/user_guide/indexing.html#returning-a-view-versus-a-copy\n",
      "  \"\"\"Entry point for launching an IPython kernel.\n"
     ]
    }
   ],
   "source": [
    "df1['session_id'] = df1['session_id'].astype(int)"
   ]
  },
  {
   "cell_type": "code",
   "execution_count": 21,
   "id": "e3eeb57a",
   "metadata": {},
   "outputs": [
    {
     "data": {
      "text/html": [
       "<div>\n",
       "<style scoped>\n",
       "    .dataframe tbody tr th:only-of-type {\n",
       "        vertical-align: middle;\n",
       "    }\n",
       "\n",
       "    .dataframe tbody tr th {\n",
       "        vertical-align: top;\n",
       "    }\n",
       "\n",
       "    .dataframe thead th {\n",
       "        text-align: right;\n",
       "    }\n",
       "</style>\n",
       "<table border=\"1\" class=\"dataframe\">\n",
       "  <thead>\n",
       "    <tr style=\"text-align: right;\">\n",
       "      <th></th>\n",
       "      <th>customer_id</th>\n",
       "      <th>product_id</th>\n",
       "      <th>timestamp</th>\n",
       "      <th>session_id</th>\n",
       "    </tr>\n",
       "  </thead>\n",
       "  <tbody>\n",
       "    <tr>\n",
       "      <th>0</th>\n",
       "      <td>ds1</td>\n",
       "      <td>200</td>\n",
       "      <td>2022-12-30 00:00:00</td>\n",
       "      <td>1</td>\n",
       "    </tr>\n",
       "    <tr>\n",
       "      <th>1</th>\n",
       "      <td>ds1</td>\n",
       "      <td>200</td>\n",
       "      <td>2022-12-30 00:01:00</td>\n",
       "      <td>1</td>\n",
       "    </tr>\n",
       "    <tr>\n",
       "      <th>2</th>\n",
       "      <td>ds1</td>\n",
       "      <td>200</td>\n",
       "      <td>2022-12-30 00:02:00</td>\n",
       "      <td>1</td>\n",
       "    </tr>\n",
       "    <tr>\n",
       "      <th>3</th>\n",
       "      <td>ds1</td>\n",
       "      <td>200</td>\n",
       "      <td>2022-12-30 00:03:00</td>\n",
       "      <td>1</td>\n",
       "    </tr>\n",
       "    <tr>\n",
       "      <th>5</th>\n",
       "      <td>ht1</td>\n",
       "      <td>200</td>\n",
       "      <td>2022-12-30 00:05:00</td>\n",
       "      <td>6</td>\n",
       "    </tr>\n",
       "    <tr>\n",
       "      <th>6</th>\n",
       "      <td>ht1</td>\n",
       "      <td>200</td>\n",
       "      <td>2022-12-30 00:06:00</td>\n",
       "      <td>6</td>\n",
       "    </tr>\n",
       "    <tr>\n",
       "      <th>8</th>\n",
       "      <td>dr1</td>\n",
       "      <td>200</td>\n",
       "      <td>2022-12-30 00:08:00</td>\n",
       "      <td>9</td>\n",
       "    </tr>\n",
       "    <tr>\n",
       "      <th>9</th>\n",
       "      <td>dr1</td>\n",
       "      <td>200</td>\n",
       "      <td>2022-12-30 00:09:00</td>\n",
       "      <td>9</td>\n",
       "    </tr>\n",
       "    <tr>\n",
       "      <th>10</th>\n",
       "      <td>dr1</td>\n",
       "      <td>200</td>\n",
       "      <td>2022-12-30 00:10:00</td>\n",
       "      <td>9</td>\n",
       "    </tr>\n",
       "    <tr>\n",
       "      <th>12</th>\n",
       "      <td>tu1</td>\n",
       "      <td>200</td>\n",
       "      <td>2022-12-30 00:12:00</td>\n",
       "      <td>13</td>\n",
       "    </tr>\n",
       "    <tr>\n",
       "      <th>13</th>\n",
       "      <td>tu1</td>\n",
       "      <td>200</td>\n",
       "      <td>2022-12-30 00:13:00</td>\n",
       "      <td>13</td>\n",
       "    </tr>\n",
       "    <tr>\n",
       "      <th>16</th>\n",
       "      <td>fe1</td>\n",
       "      <td>200</td>\n",
       "      <td>2022-12-30 00:16:00</td>\n",
       "      <td>17</td>\n",
       "    </tr>\n",
       "    <tr>\n",
       "      <th>19</th>\n",
       "      <td>ik1</td>\n",
       "      <td>200</td>\n",
       "      <td>2022-12-30 00:19:00</td>\n",
       "      <td>20</td>\n",
       "    </tr>\n",
       "    <tr>\n",
       "      <th>20</th>\n",
       "      <td>mj1</td>\n",
       "      <td>200</td>\n",
       "      <td>2022-12-30 00:20:00</td>\n",
       "      <td>21</td>\n",
       "    </tr>\n",
       "    <tr>\n",
       "      <th>21</th>\n",
       "      <td>mj1</td>\n",
       "      <td>200</td>\n",
       "      <td>2022-12-30 00:21:00</td>\n",
       "      <td>21</td>\n",
       "    </tr>\n",
       "    <tr>\n",
       "      <th>22</th>\n",
       "      <td>mj1</td>\n",
       "      <td>200</td>\n",
       "      <td>2022-12-30 00:22:00</td>\n",
       "      <td>21</td>\n",
       "    </tr>\n",
       "  </tbody>\n",
       "</table>\n",
       "</div>"
      ],
      "text/plain": [
       "   customer_id  product_id           timestamp  session_id\n",
       "0          ds1         200 2022-12-30 00:00:00           1\n",
       "1          ds1         200 2022-12-30 00:01:00           1\n",
       "2          ds1         200 2022-12-30 00:02:00           1\n",
       "3          ds1         200 2022-12-30 00:03:00           1\n",
       "5          ht1         200 2022-12-30 00:05:00           6\n",
       "6          ht1         200 2022-12-30 00:06:00           6\n",
       "8          dr1         200 2022-12-30 00:08:00           9\n",
       "9          dr1         200 2022-12-30 00:09:00           9\n",
       "10         dr1         200 2022-12-30 00:10:00           9\n",
       "12         tu1         200 2022-12-30 00:12:00          13\n",
       "13         tu1         200 2022-12-30 00:13:00          13\n",
       "16         fe1         200 2022-12-30 00:16:00          17\n",
       "19         ik1         200 2022-12-30 00:19:00          20\n",
       "20         mj1         200 2022-12-30 00:20:00          21\n",
       "21         mj1         200 2022-12-30 00:21:00          21\n",
       "22         mj1         200 2022-12-30 00:22:00          21"
      ]
     },
     "execution_count": 21,
     "metadata": {},
     "output_type": "execute_result"
    }
   ],
   "source": [
    "df1"
   ]
  },
  {
   "cell_type": "code",
   "execution_count": null,
   "id": "a5b215e3",
   "metadata": {},
   "outputs": [],
   "source": []
  },
  {
   "cell_type": "code",
   "execution_count": null,
   "id": "482c34ed",
   "metadata": {},
   "outputs": [],
   "source": []
  },
  {
   "cell_type": "code",
   "execution_count": null,
   "id": "4504d731",
   "metadata": {},
   "outputs": [],
   "source": []
  },
  {
   "cell_type": "code",
   "execution_count": null,
   "id": "dcd4d4f4",
   "metadata": {},
   "outputs": [],
   "source": []
  },
  {
   "cell_type": "code",
   "execution_count": null,
   "id": "a40d602b",
   "metadata": {},
   "outputs": [],
   "source": []
  }
 ],
 "metadata": {
  "kernelspec": {
   "display_name": "Python 3 (ipykernel)",
   "language": "python",
   "name": "python3"
  },
  "language_info": {
   "codemirror_mode": {
    "name": "ipython",
    "version": 3
   },
   "file_extension": ".py",
   "mimetype": "text/x-python",
   "name": "python",
   "nbconvert_exporter": "python",
   "pygments_lexer": "ipython3",
   "version": "3.7.9"
  }
 },
 "nbformat": 4,
 "nbformat_minor": 5
}
